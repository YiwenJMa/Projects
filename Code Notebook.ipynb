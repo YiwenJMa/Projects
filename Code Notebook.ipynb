{
 "cells": [
  {
   "cell_type": "code",
   "execution_count": 109,
   "id": "dc402c23",
   "metadata": {},
   "outputs": [],
   "source": [
    "import numpy as np\n",
    "import matplotlib.pyplot as plt\n",
    "import pandas as pd\n",
    "\n",
    "from sklearn.metrics import confusion_matrix\n",
    "from sklearn.metrics import accuracy_score\n",
    "from sklearn.metrics import f1_score"
   ]
  },
  {
   "cell_type": "code",
   "execution_count": 110,
   "id": "5d4a247a",
   "metadata": {},
   "outputs": [],
   "source": [
    "df = pd.read_csv(\"train.csv\")"
   ]
  },
  {
   "cell_type": "code",
   "execution_count": 111,
   "id": "1769a2a7",
   "metadata": {},
   "outputs": [
    {
     "data": {
      "text/plain": [
       "<bound method NDFrame.head of        user_reputation  reply_count  thumbs_up  thumbs_down  best_score  \\\n",
       "0                    1            0          0            0         100   \n",
       "1                    1            0          0            0         100   \n",
       "2                    1            0          0            0         100   \n",
       "3                   10            0          5            2         261   \n",
       "4                    1            0          0            0         100   \n",
       "...                ...          ...        ...          ...         ...   \n",
       "14540                1            0          1            0         193   \n",
       "14541                1            0          1            0         193   \n",
       "14542                1            0          0            0         100   \n",
       "14543                1            0          0            0         100   \n",
       "14544                1            0          0            0         100   \n",
       "\n",
       "                                                    text  stars  \n",
       "0                                                 Tasty!      5  \n",
       "1      As soon as I saw this on the cover of the maga...      5  \n",
       "2      This recipe is great! I have never made bread ...      5  \n",
       "3      @Sarah (from Dec. 16, 2019): What the recipe d...      0  \n",
       "4      This was absolutely delish!   My whole family ...      5  \n",
       "...                                                  ...    ...  \n",
       "14540  First time making this recipe. The neighbors t...      4  \n",
       "14541  Great pancake recipe! I added more milk, vanil...      5  \n",
       "14542  i made these for a sale at work they loved the...      4  \n",
       "14543  I have tried many banana bread recipes.  This ...      5  \n",
       "14544  Fantastic and tasted VERY similar to a REESE C...      5  \n",
       "\n",
       "[14545 rows x 7 columns]>"
      ]
     },
     "execution_count": 111,
     "metadata": {},
     "output_type": "execute_result"
    }
   ],
   "source": [
    "df.head"
   ]
  },
  {
   "cell_type": "markdown",
   "id": "2a6763d6",
   "metadata": {},
   "source": [
    "# Clean Train set"
   ]
  },
  {
   "cell_type": "code",
   "execution_count": 112,
   "id": "cdf73d7c",
   "metadata": {},
   "outputs": [
    {
     "name": "stdout",
     "output_type": "stream",
     "text": [
      "user_reputation    0\n",
      "reply_count        0\n",
      "thumbs_up          0\n",
      "thumbs_down        0\n",
      "best_score         0\n",
      "text               0\n",
      "stars              0\n",
      "dtype: int64\n",
      "(13189, 7)\n"
     ]
    },
    {
     "name": "stderr",
     "output_type": "stream",
     "text": [
      "/var/folders/0f/fvfgpjxn28q0vmf0v53kjtl80000gn/T/ipykernel_13719/1146024053.py:5: SettingWithCopyWarning: \n",
      "A value is trying to be set on a copy of a slice from a DataFrame.\n",
      "Try using .loc[row_indexer,col_indexer] = value instead\n",
      "\n",
      "See the caveats in the documentation: https://pandas.pydata.org/pandas-docs/stable/user_guide/indexing.html#returning-a-view-versus-a-copy\n",
      "  df_clean.loc[:, 'text'] = df_clean['text'].fillna(\"Text missing\")\n"
     ]
    }
   ],
   "source": [
    "#Clean rows where 'stars' column has a value of 0,denoting an absence of rating\n",
    "df_clean = df[df['stars'] != 0]\n",
    "\n",
    "#fill missing text value\n",
    "df_clean.loc[:, 'text'] = df_clean['text'].fillna(\"Text missing\")\n",
    "\n",
    "# Check to ensure no more missing values in 'text' column\n",
    "print(df_clean.isnull().sum())\n",
    "\n",
    "#To view the shape of the DataFrame\n",
    "print(df_clean.shape)"
   ]
  },
  {
   "cell_type": "code",
   "execution_count": 113,
   "id": "e7150649",
   "metadata": {},
   "outputs": [
    {
     "name": "stderr",
     "output_type": "stream",
     "text": [
      "/var/folders/0f/fvfgpjxn28q0vmf0v53kjtl80000gn/T/ipykernel_13719/4015499222.py:8: SettingWithCopyWarning: \n",
      "A value is trying to be set on a copy of a slice from a DataFrame.\n",
      "Try using .loc[row_indexer,col_indexer] = value instead\n",
      "\n",
      "See the caveats in the documentation: https://pandas.pydata.org/pandas-docs/stable/user_guide/indexing.html#returning-a-view-versus-a-copy\n",
      "  df_clean['text'] = df_clean['text'].apply(decode_html_entities)\n"
     ]
    }
   ],
   "source": [
    "#Found &#39 in dataset, decode HTML entities\n",
    "\n",
    "import html\n",
    "\n",
    "def decode_html_entities(text):\n",
    "    return html.unescape(text)\n",
    "\n",
    "df_clean['text'] = df_clean['text'].apply(decode_html_entities)"
   ]
  },
  {
   "cell_type": "markdown",
   "id": "a68afa30",
   "metadata": {},
   "source": [
    "# Preprocessing the data"
   ]
  },
  {
   "cell_type": "code",
   "execution_count": 114,
   "id": "f1b2ef50",
   "metadata": {},
   "outputs": [],
   "source": [
    "#TF-IDF Vectorizer is a more advanced method that accounts for both the frequency of a word in a document and its significance across the entire corpus\n",
    "from sklearn.feature_extraction.text import TfidfVectorizer\n",
    "\n",
    "tfidf_vectorizer = TfidfVectorizer(stop_words='english', max_features=2000)\n",
    "X_train = tfidf_vectorizer.fit_transform(df_clean['text'])\n",
    "y = df_clean['stars']"
   ]
  },
  {
   "cell_type": "code",
   "execution_count": 115,
   "id": "6bb20375",
   "metadata": {},
   "outputs": [
    {
     "data": {
      "text/plain": [
       "array(['10', '100', '11', ..., 'zest', 'zip', 'zucchini'], dtype=object)"
      ]
     },
     "execution_count": 115,
     "metadata": {},
     "output_type": "execute_result"
    }
   ],
   "source": [
    "tfidf_vectorizer.get_feature_names_out()"
   ]
  },
  {
   "cell_type": "code",
   "execution_count": 116,
   "id": "a088cb07",
   "metadata": {},
   "outputs": [
    {
     "name": "stdout",
     "output_type": "stream",
     "text": [
      "(13189, 2000)\n"
     ]
    }
   ],
   "source": [
    "print(X_train.shape)"
   ]
  },
  {
   "cell_type": "markdown",
   "id": "10874cbd",
   "metadata": {},
   "source": [
    "# Clean Test set"
   ]
  },
  {
   "cell_type": "code",
   "execution_count": 117,
   "id": "6c5e4164",
   "metadata": {},
   "outputs": [],
   "source": [
    "df_test = pd.read_csv(\"test.csv\")"
   ]
  },
  {
   "cell_type": "code",
   "execution_count": 118,
   "id": "a98d7804",
   "metadata": {},
   "outputs": [
    {
     "name": "stdout",
     "output_type": "stream",
     "text": [
      "user_reputation    0\n",
      "reply_count        0\n",
      "thumbs_up          0\n",
      "thumbs_down        0\n",
      "best_score         0\n",
      "text               0\n",
      "stars              0\n",
      "dtype: int64\n"
     ]
    },
    {
     "name": "stderr",
     "output_type": "stream",
     "text": [
      "/var/folders/0f/fvfgpjxn28q0vmf0v53kjtl80000gn/T/ipykernel_13719/2625276342.py:5: SettingWithCopyWarning: \n",
      "A value is trying to be set on a copy of a slice from a DataFrame.\n",
      "Try using .loc[row_indexer,col_indexer] = value instead\n",
      "\n",
      "See the caveats in the documentation: https://pandas.pydata.org/pandas-docs/stable/user_guide/indexing.html#returning-a-view-versus-a-copy\n",
      "  df_test_clean.loc[:, 'text'] = df_test_clean['text'].fillna(\"Text missing\")\n"
     ]
    }
   ],
   "source": [
    "#remove rows where 'stars' column has a value of 0,denoting an absence of rating\n",
    "df_test_clean = df_test[df_test['stars'] != 0]\n",
    "\n",
    "#Replace missing value in text column as \"Text missing\"\n",
    "df_test_clean.loc[:, 'text'] = df_test_clean['text'].fillna(\"Text missing\")\n",
    "\n",
    "#Check to ensure no more missing values in 'text' column\n",
    "print(df_test_clean.isnull().sum())"
   ]
  },
  {
   "cell_type": "code",
   "execution_count": 119,
   "id": "bcc7a987",
   "metadata": {},
   "outputs": [
    {
     "data": {
      "text/plain": [
       "array([3, 5, 4, 2, 1])"
      ]
     },
     "execution_count": 119,
     "metadata": {},
     "output_type": "execute_result"
    }
   ],
   "source": [
    "df_test_clean['stars'].unique()"
   ]
  },
  {
   "cell_type": "code",
   "execution_count": 120,
   "id": "49dc5723",
   "metadata": {},
   "outputs": [
    {
     "name": "stderr",
     "output_type": "stream",
     "text": [
      "/var/folders/0f/fvfgpjxn28q0vmf0v53kjtl80000gn/T/ipykernel_13719/1920972831.py:8: SettingWithCopyWarning: \n",
      "A value is trying to be set on a copy of a slice from a DataFrame.\n",
      "Try using .loc[row_indexer,col_indexer] = value instead\n",
      "\n",
      "See the caveats in the documentation: https://pandas.pydata.org/pandas-docs/stable/user_guide/indexing.html#returning-a-view-versus-a-copy\n",
      "  df_test_clean['text'] = df_test_clean['text'].apply(decode_html_entities)\n"
     ]
    }
   ],
   "source": [
    "#Found &#39 in dataset, decode HTML entities\n",
    "\n",
    "import html\n",
    "\n",
    "def decode_html_entities(text):\n",
    "    return html.unescape(text)\n",
    "\n",
    "df_test_clean['text'] = df_test_clean['text'].apply(decode_html_entities)"
   ]
  },
  {
   "cell_type": "code",
   "execution_count": 121,
   "id": "24c50639",
   "metadata": {},
   "outputs": [
    {
     "name": "stdout",
     "output_type": "stream",
     "text": [
      "(3297, 7)\n"
     ]
    }
   ],
   "source": [
    "print(df_test_clean.shape)"
   ]
  },
  {
   "cell_type": "markdown",
   "id": "c5f87bf8",
   "metadata": {},
   "source": [
    "# Model Selection"
   ]
  },
  {
   "cell_type": "markdown",
   "id": "30cccd12",
   "metadata": {},
   "source": [
    "## Logistic Regression"
   ]
  },
  {
   "cell_type": "code",
   "execution_count": 122,
   "id": "e4adcfcc",
   "metadata": {},
   "outputs": [
    {
     "data": {
      "text/plain": [
       "LogisticRegression(max_iter=1000)"
      ]
     },
     "execution_count": 122,
     "metadata": {},
     "output_type": "execute_result"
    }
   ],
   "source": [
    "#Initialize and train the Logistic Regression model\n",
    "\n",
    "from sklearn.linear_model import LogisticRegression\n",
    "\n",
    "model = LogisticRegression(max_iter=1000)\n",
    "model.fit(X_train, y)"
   ]
  },
  {
   "cell_type": "code",
   "execution_count": 123,
   "id": "ffc83b65",
   "metadata": {},
   "outputs": [
    {
     "name": "stdout",
     "output_type": "stream",
     "text": [
      "              precision    recall  f1-score   support\n",
      "\n",
      "           1       0.78      0.15      0.25        46\n",
      "           2       0.33      0.02      0.04        44\n",
      "           3       0.64      0.09      0.16        98\n",
      "           4       0.49      0.15      0.23       321\n",
      "           5       0.87      0.99      0.93      2788\n",
      "\n",
      "    accuracy                           0.86      3297\n",
      "   macro avg       0.62      0.28      0.32      3297\n",
      "weighted avg       0.82      0.86      0.82      3297\n",
      "\n",
      "Accuracy: 0.8583560812860176\n"
     ]
    }
   ],
   "source": [
    "from sklearn.metrics import classification_report, accuracy_score\n",
    "\n",
    "X_test = tfidf_vectorizer.transform(df_test_clean['text'])\n",
    "y_test = df_test_clean['stars']\n",
    "predictions_lr = model.predict(X_test)\n",
    "print(classification_report(y_test, predictions_lr))\n",
    "print(\"Accuracy:\", accuracy_score(y_test, predictions_lr))\n",
    "accuracy_lr = accuracy_score(y_test, predictions_lr)"
   ]
  },
  {
   "cell_type": "markdown",
   "id": "a4b1630e",
   "metadata": {},
   "source": [
    "## Random Forest"
   ]
  },
  {
   "cell_type": "code",
   "execution_count": 124,
   "id": "fb4e37cf",
   "metadata": {},
   "outputs": [
    {
     "data": {
      "text/plain": [
       "RandomForestClassifier(random_state=42)"
      ]
     },
     "execution_count": 124,
     "metadata": {},
     "output_type": "execute_result"
    }
   ],
   "source": [
    "#Initialize and train the random forest model\n",
    "from sklearn.ensemble import RandomForestClassifier\n",
    "\n",
    "rf_model = RandomForestClassifier(n_estimators=100, random_state=42)\n",
    "\n",
    "rf_model.fit(X_train, y)"
   ]
  },
  {
   "cell_type": "code",
   "execution_count": 125,
   "id": "5ba1a383",
   "metadata": {},
   "outputs": [
    {
     "name": "stdout",
     "output_type": "stream",
     "text": [
      "              precision    recall  f1-score   support\n",
      "\n",
      "           1       0.78      0.15      0.25        46\n",
      "           2       1.00      0.02      0.04        44\n",
      "           3       0.53      0.10      0.17        98\n",
      "           4       0.80      0.04      0.07       321\n",
      "           5       0.86      1.00      0.92      2788\n",
      "\n",
      "    accuracy                           0.85      3297\n",
      "   macro avg       0.79      0.26      0.29      3297\n",
      "weighted avg       0.84      0.85      0.80      3297\n",
      "\n",
      "Accuracy: 0.8531998786775857\n"
     ]
    }
   ],
   "source": [
    "X_test = tfidf_vectorizer.transform(df_test_clean['text'])\n",
    "predictions_rf = rf_model.predict(X_test)\n",
    "\n",
    "#Evaluate the model\n",
    "print(classification_report(y_test, predictions_rf))\n",
    "print(\"Accuracy:\", accuracy_score(y_test, predictions_rf))"
   ]
  },
  {
   "cell_type": "code",
   "execution_count": 126,
   "id": "9e692714",
   "metadata": {},
   "outputs": [
    {
     "name": "stdout",
     "output_type": "stream",
     "text": [
      "n_estimators: 90, Accuracy: 0.8528965726417955\n",
      "n_estimators: 100, Accuracy: 0.8531998786775857\n",
      "n_estimators: 105, Accuracy: 0.8528965726417955\n",
      "n_estimators: 110, Accuracy: 0.8525932666060054\n",
      "n_estimators: 120, Accuracy: 0.8531998786775857\n",
      "n_estimators: 130, Accuracy: 0.8531998786775857\n",
      "n_estimators: 150, Accuracy: 0.8535031847133758\n",
      "n_estimators: 160, Accuracy: 0.8535031847133758\n"
     ]
    },
    {
     "data": {
      "image/png": "[encoded data removed]",
      "text/plain": [
       "<Figure size 720x432 with 1 Axes>"
      ]
     },
     "metadata": {
      "needs_background": "light"
     },
     "output_type": "display_data"
    }
   ],
   "source": [
    "#Chose range of 'n_estimators'\n",
    "n_estimators_range = [90,100,105,110,120,130,150,160]\n",
    "accuracies = []\n",
    "\n",
    "for n_estimators in n_estimators_range:\n",
    "    rf_model = RandomForestClassifier(n_estimators=n_estimators, random_state=42, n_jobs=-1)\n",
    "    \n",
    "    rf_model.fit(X_train, y)\n",
    "    predictions_lp= rf_model.predict(X_test)\n",
    "    \n",
    "    accuracy = accuracy_score(y_test, predictions_lp)\n",
    "    accuracies.append(accuracy)\n",
    "    print(f\"n_estimators: {n_estimators}, Accuracy: {accuracy}\")\n",
    "\n",
    "# Plotting\n",
    "plt.figure(figsize=(10, 6))\n",
    "plt.plot(n_estimators_range, accuracies, marker='o', linestyle='-', color='b')\n",
    "plt.title('Random Forest Accuracy vs. Number of Estimators')\n",
    "plt.xlabel('Number of Estimators')\n",
    "plt.ylabel('Accuracy')\n",
    "plt.grid(True)\n",
    "plt.show()\n",
    "# when n_estimators=150 or 160 has the highest accuracy, but sill it is lower than Logistic Regression predictions"
   ]
  },
  {
   "cell_type": "markdown",
   "id": "3a9e6db7",
   "metadata": {},
   "source": [
    "## Multinomial Naive Bayes"
   ]
  },
  {
   "cell_type": "code",
   "execution_count": 127,
   "id": "f178b6e3",
   "metadata": {},
   "outputs": [
    {
     "name": "stdout",
     "output_type": "stream",
     "text": [
      "              precision    recall  f1-score   support\n",
      "\n",
      "           1       0.00      0.00      0.00        46\n",
      "           2       0.00      0.00      0.00        44\n",
      "           3       0.00      0.00      0.00        98\n",
      "           4       0.00      0.00      0.00       321\n",
      "           5       0.85      1.00      0.92      2788\n",
      "\n",
      "    accuracy                           0.85      3297\n",
      "   macro avg       0.17      0.20      0.18      3297\n",
      "weighted avg       0.72      0.85      0.78      3297\n",
      "\n",
      "Accuracy: 0.8456172277828329\n"
     ]
    },
    {
     "name": "stderr",
     "output_type": "stream",
     "text": [
      "/opt/anaconda3/lib/python3.9/site-packages/sklearn/metrics/_classification.py:1318: UndefinedMetricWarning: Precision and F-score are ill-defined and being set to 0.0 in labels with no predicted samples. Use `zero_division` parameter to control this behavior.\n",
      "  _warn_prf(average, modifier, msg_start, len(result))\n",
      "/opt/anaconda3/lib/python3.9/site-packages/sklearn/metrics/_classification.py:1318: UndefinedMetricWarning: Precision and F-score are ill-defined and being set to 0.0 in labels with no predicted samples. Use `zero_division` parameter to control this behavior.\n",
      "  _warn_prf(average, modifier, msg_start, len(result))\n",
      "/opt/anaconda3/lib/python3.9/site-packages/sklearn/metrics/_classification.py:1318: UndefinedMetricWarning: Precision and F-score are ill-defined and being set to 0.0 in labels with no predicted samples. Use `zero_division` parameter to control this behavior.\n",
      "  _warn_prf(average, modifier, msg_start, len(result))\n"
     ]
    }
   ],
   "source": [
    "#Initialize and train the Multinomial Naive Bayes model\n",
    "\n",
    "from sklearn.naive_bayes import MultinomialNB\n",
    "\n",
    "nb_model = MultinomialNB()\n",
    "nb_model.fit(X_train, y)\n",
    "predictions_mnb = nb_model.predict(X_test)\n",
    "\n",
    "#Evaluate the model\n",
    "print(classification_report(y_test, predictions_mnb))\n",
    "print(\"Accuracy:\", accuracy_score(y_test, predictions_mnb))"
   ]
  },
  {
   "cell_type": "markdown",
   "id": "2464d054",
   "metadata": {},
   "source": [
    "## Decision Tree"
   ]
  },
  {
   "cell_type": "code",
   "execution_count": 128,
   "id": "73b09d3e",
   "metadata": {},
   "outputs": [],
   "source": [
    "#Initialize and train the Multinomial Naive Bayes model\n",
    "from sklearn.tree import DecisionTreeClassifier\n",
    "dt_model = DecisionTreeClassifier(criterion = 'gini', max_depth = 150, random_state=42)\n",
    "dt_model.fit(X_train, y)\n",
    "predictions_dt = dt_model.predict(X_test)"
   ]
  },
  {
   "cell_type": "code",
   "execution_count": 129,
   "id": "3283a329",
   "metadata": {
    "scrolled": true
   },
   "outputs": [
    {
     "name": "stdout",
     "output_type": "stream",
     "text": [
      "              precision    recall  f1-score   support\n",
      "\n",
      "           1       0.14      0.15      0.15        46\n",
      "           2       0.04      0.02      0.03        44\n",
      "           3       0.17      0.15      0.16        98\n",
      "           4       0.23      0.20      0.22       321\n",
      "           5       0.88      0.90      0.89      2788\n",
      "\n",
      "    accuracy                           0.79      3297\n",
      "   macro avg       0.29      0.29      0.29      3297\n",
      "weighted avg       0.77      0.79      0.78      3297\n",
      "\n",
      "Accuracy: 0.7873824689111313\n"
     ]
    }
   ],
   "source": [
    "# Evaluate the model\n",
    "print(classification_report(y_test, predictions_dt))\n",
    "print(\"Accuracy:\", accuracy_score(y_test, predictions_dt))"
   ]
  },
  {
   "cell_type": "code",
   "execution_count": 130,
   "id": "7ac16fed",
   "metadata": {},
   "outputs": [],
   "source": [
    "#Export pred file\n",
    "pred = pd.Series(predictions_lr).to_csv('pred.csv', index=False, header=False)"
   ]
  },
  {
   "cell_type": "code",
   "execution_count": 131,
   "id": "84a64adc",
   "metadata": {},
   "outputs": [],
   "source": [
    "#Export accurancy file\n",
    "accuracy = pd.Series(accuracy_lr).to_csv('accuracy.csv', index=False, header=False)"
   ]
  },
  {
   "cell_type": "markdown",
   "id": "0a95463c",
   "metadata": {},
   "source": [
    "# Question"
   ]
  },
  {
   "cell_type": "markdown",
   "id": "475053a8",
   "metadata": {},
   "source": [
    "### Question a: How does the performance of your model vary across different classes? Analyze and discuss your observations regarding the precision and recall metrics for each class?"
   ]
  },
  {
   "cell_type": "markdown",
   "id": "ef516db2",
   "metadata": {},
   "source": [
    "The logistic regression model has been chosen as it gives the highest accuracy among all tested models. However, this model's performance varies greatly across the different classes as seen in the provided classification report above. For ratings 1 and 3, we see there is a high to moderate precision but with very low recall. The indicates that the model is fairly accurate when predicting class 1and class 3 but fails to identify 85% and 91% of actual class 1 or class 3 instances.  \n",
    "\n",
    "For ratings 2 and 4, both precision and recall are low. Rating 2 has 0.33 precision and 0.02 recall and rating 4 has o.49 precision with 0.15 recall. This result suggests that this model can only correct 33% or 49% of time but only be able to identify 2% or 15% of actual rating 2 and 4 instance, suggesting many false negatives.  \n",
    "\n",
    "For rating 5, this model did a fairly good job with 0.87 precision and 0.99 recall, means this model is very accurate and reliable for rating 5 predictions, correctly identifying 99% of actual rating 5 instances. This suggests that class 5 ratings have distinct features that the model can easily recognize. "
   ]
  },
  {
   "cell_type": "markdown",
   "id": "fb39ba3c",
   "metadata": {},
   "source": [
    "### Question b: Considering your analysis, how would you recommend using this model in a real-world application? Discuss any limitations or considerations that should be taken into account."
   ]
  },
  {
   "cell_type": "markdown",
   "id": "4a8d55e4",
   "metadata": {},
   "source": [
    "In a real-world application for predicting the star rating of different recipe reviews, I would recommend this model for predicting top-rated recipes (5 rating recipes). It would be a very accurate and reliable model as it has a very high recall and precision on predicting rating 5 instances. I also would suggest this model as an assistance tool for the management team to identify potential poor-rating recipes (rating 1-3) and flag these recipes for review, as it has a moderate precision. At the same time, the low recall indicates that not all low-rated recipes will be caught, so it shouldn't be the sole moderation tool. \n",
    "\n",
    "However, there are still limitations or considerations regarding using this model in real-life applications. Knowing the model's performance skew towards higher ratings, it's essential to address the rating class imbalance, perhaps by collecting more data for less common ratings. Also, User tastes can vary widely, and what considered a 5-star recipe for one user might not for another. This subjective nature of recipe ratings should be accounted for, possibly by incorporating user profile data into the model to account for demographic elements.  "
   ]
  },
  {
   "cell_type": "markdown",
   "id": "d1315a3f",
   "metadata": {},
   "source": [
    "### Question c: Analyze your data to address the previously identified accuracy issues. Describe your method to address this issue, implement it in code and retrain a classifier, and assess any improvements or ongoing challenges. Your evaluation will be based on your method's appropriateness, not the results."
   ]
  },
  {
   "cell_type": "markdown",
   "id": "7338415f",
   "metadata": {},
   "source": [
    "As discussed in the previous questions, there is a clear imbalance class issue in the dataset, where resulted in model's performance skew towards higher ratings. One straightforward way to improve this issue but avoid data augmentation, is to use Random Forest Classifier with a class weight balanced parameter. This parameter adjusts the weights of the classes inversely proportional to their frequencies in the input data, which can help the classifier pay more attention to the minority classes during training (see code below for more details). However, even after using this parameter, there are only some improvements in certain classes. For ratings 1 and 4, there is a small increase in recall from 0.15 to 0.26. Rating 3's performance remained mostly unchanged. However, there is also a decrease in rating 2’s performance for both precision and recall, there is a bit concerning as a tradeoff. \n",
    "\n",
    "Overall, while the class balance parameter helps in mitigating class imbalance, the extremely low recall for Classes 2 and 3 suggests that further adjustments or different approaches may be needed. In addition, the decrease in overall accuracy and the changes in precision and recall suggest a trade-off that improving the detection of minority classes might come at the expense of overall accuracy or performance on the majority class. To better improve the model, we can continue to fine-tune other hyperparameters of the model alongside the class weight to find a more optimal balance. But at the same time, with the imbalance nature of the dataset, it is better to try more targeted resampling strategies. "
   ]
  },
  {
   "cell_type": "code",
   "execution_count": 132,
   "id": "64c3cb62",
   "metadata": {},
   "outputs": [
    {
     "name": "stdout",
     "output_type": "stream",
     "text": [
      "              precision    recall  f1-score   support\n",
      "\n",
      "           1       0.24      0.13      0.17        46\n",
      "           2       1.00      0.02      0.04        44\n",
      "           3       0.21      0.07      0.11        98\n",
      "           4       0.50      0.05      0.09       321\n",
      "           5       0.85      0.98      0.91      2788\n",
      "\n",
      "    accuracy                           0.84      3297\n",
      "   macro avg       0.56      0.25      0.27      3297\n",
      "weighted avg       0.79      0.84      0.79      3297\n",
      "\n",
      "0.8401577191386108\n"
     ]
    }
   ],
   "source": [
    "from sklearn.ensemble import RandomForestClassifier\n",
    "from sklearn.metrics import classification_report, accuracy_score\n",
    "\n",
    "X_test_rs = tfidf_vectorizer.transform(df_test_clean['text'])\n",
    "y_test_rs = df_test_clean['stars']\n",
    "\n",
    "# Parameter class_weight set to 'balanced'\n",
    "clf = RandomForestClassifier(n_estimators=100, random_state=42, class_weight='balanced')\n",
    "\n",
    "# Train the classifier\n",
    "clf.fit(X_train,y)\n",
    "\n",
    "# Predict\n",
    "predictions_rs = clf.predict(X_test_rs)\n",
    "\n",
    "# Evaluate the classifier\n",
    "\n",
    "print(classification_report(y_test, predictions_rs))\n",
    "print(accuracy_score(y_test, predictions_rs))"
   ]
  }
 ],
 "metadata": {
  "kernelspec": {
   "display_name": "Python 3 (ipykernel)",
   "language": "python",
   "name": "python3"
  },
  "language_info": {
   "codemirror_mode": {
    "name": "ipython",
    "version": 3
   },
   "file_extension": ".py",
   "mimetype": "text/x-python",
   "name": "python",
   "nbconvert_exporter": "python",
   "pygments_lexer": "ipython3",
   "version": "3.9.12"
  }
 },
 "nbformat": 4,
 "nbformat_minor": 5
}
